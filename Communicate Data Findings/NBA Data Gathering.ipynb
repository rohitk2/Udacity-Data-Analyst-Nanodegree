{
 "cells": [
  {
   "cell_type": "markdown",
   "metadata": {},
   "source": [
    "# NBA Teams Dataset Data Gathering \n",
    "\n",
    "## Data Gathering\n",
    "\n",
    "I gathered data using NBA_API. Here is the github to the source code:\n",
    "https://github.com/swar/nba_api"
   ]
  },
  {
   "cell_type": "code",
   "execution_count": 1,
   "metadata": {},
   "outputs": [],
   "source": [
    "#imported packages\n",
    "import pandas as pd\n",
    "from nba_api.stats.endpoints import teamyearbyyearstats\n",
    "from nba_api.stats.static import teams "
   ]
  },
  {
   "cell_type": "code",
   "execution_count": 2,
   "metadata": {},
   "outputs": [],
   "source": [
    "#Got all the different teams\n",
    "teams = teams.get_teams()\n",
    "team_ids = [t['id'] for t in teams]"
   ]
  },
  {
   "cell_type": "code",
   "execution_count": 3,
   "metadata": {},
   "outputs": [],
   "source": [
    "#for each team got their franchise history\n",
    "df_list = []\n",
    "for id_ in team_ids :\n",
    "    cumstats = teamyearbyyearstats.TeamYearByYearStats(id_)\n",
    "    df = cumstats.get_data_frames()[0]\n",
    "    df_list.append(df)"
   ]
  },
  {
   "cell_type": "code",
   "execution_count": 4,
   "metadata": {},
   "outputs": [
    {
     "name": "stdout",
     "output_type": "stream",
     "text": [
      "<bound method IndexOpsMixin.value_counts of 0     1988-89\n",
      "1     1989-90\n",
      "2     1990-91\n",
      "3     1991-92\n",
      "4     1992-93\n",
      "5     1993-94\n",
      "6     1994-95\n",
      "7     1995-96\n",
      "8     1996-97\n",
      "9     1997-98\n",
      "10    1998-99\n",
      "11    1999-00\n",
      "12    2000-01\n",
      "13    2001-02\n",
      "14    2004-05\n",
      "15    2005-06\n",
      "16    2006-07\n",
      "17    2007-08\n",
      "18    2008-09\n",
      "19    2009-10\n",
      "20    2010-11\n",
      "21    2011-12\n",
      "22    2012-13\n",
      "23    2013-14\n",
      "24    2014-15\n",
      "25    2015-16\n",
      "26    2016-17\n",
      "27    2017-18\n",
      "28    2018-19\n",
      "29    2019-20\n",
      "30    2020-21\n",
      "Name: YEAR, dtype: object>\n",
      "<class 'pandas.core.frame.DataFrame'>\n",
      "RangeIndex: 31 entries, 0 to 30\n",
      "Data columns (total 34 columns):\n",
      " #   Column                 Non-Null Count  Dtype  \n",
      "---  ------                 --------------  -----  \n",
      " 0   TEAM_ID                31 non-null     int64  \n",
      " 1   TEAM_CITY              31 non-null     object \n",
      " 2   TEAM_NAME              31 non-null     object \n",
      " 3   YEAR                   31 non-null     object \n",
      " 4   GP                     31 non-null     int64  \n",
      " 5   WINS                   31 non-null     int64  \n",
      " 6   LOSSES                 31 non-null     int64  \n",
      " 7   WIN_PCT                31 non-null     float64\n",
      " 8   CONF_RANK              31 non-null     int64  \n",
      " 9   DIV_RANK               31 non-null     int64  \n",
      " 10  PO_WINS                31 non-null     int64  \n",
      " 11  PO_LOSSES              31 non-null     int64  \n",
      " 12  CONF_COUNT             31 non-null     int64  \n",
      " 13  DIV_COUNT              31 non-null     int64  \n",
      " 14  NBA_FINALS_APPEARANCE  31 non-null     object \n",
      " 15  FGM                    31 non-null     int64  \n",
      " 16  FGA                    31 non-null     int64  \n",
      " 17  FG_PCT                 31 non-null     float64\n",
      " 18  FG3M                   31 non-null     int64  \n",
      " 19  FG3A                   31 non-null     int64  \n",
      " 20  FG3_PCT                31 non-null     float64\n",
      " 21  FTM                    31 non-null     int64  \n",
      " 22  FTA                    31 non-null     int64  \n",
      " 23  FT_PCT                 31 non-null     float64\n",
      " 24  OREB                   31 non-null     int64  \n",
      " 25  DREB                   31 non-null     int64  \n",
      " 26  REB                    31 non-null     int64  \n",
      " 27  AST                    31 non-null     int64  \n",
      " 28  PF                     31 non-null     int64  \n",
      " 29  STL                    31 non-null     int64  \n",
      " 30  TOV                    31 non-null     int64  \n",
      " 31  BLK                    31 non-null     int64  \n",
      " 32  PTS                    31 non-null     int64  \n",
      " 33  PTS_RANK               31 non-null     int64  \n",
      "dtypes: float64(4), int64(26), object(4)\n",
      "memory usage: 8.4+ KB\n"
     ]
    }
   ],
   "source": [
    "print(df['YEAR'].value_counts)\n",
    "df.info()"
   ]
  },
  {
   "cell_type": "code",
   "execution_count": 5,
   "metadata": {},
   "outputs": [],
   "source": [
    "#dropped certain columns that I won't be using for analysis \n",
    "df = pd.concat(df_list)\n",
    "dropped_col = ['TEAM_ID', 'TEAM_CITY', 'PO_WINS', 'PO_LOSSES', 'FGM', 'FGA', 'FG3M', \n",
    "               'FG3A', 'FTM', 'FTA', 'CONF_COUNT', 'DIV_COUNT', 'WINS', \n",
    "               'LOSSES', 'CONF_RANK', 'DIV_RANK', 'PTS_RANK']\n",
    "df.drop(columns=dropped_col, inplace=True)\n",
    "#I filtered by year (only 1990+)\n",
    "df['YEAR'] = df.YEAR.str[:4].astype(int)\n",
    "df = df.query(\"YEAR > 1989\")\n",
    "#Because some seasons had different number of games per season I made all the statistics per game instead of season total\n",
    "columns_ = df.drop(columns=['YEAR', 'GP']).select_dtypes(include=int).columns\n",
    "for col in columns_ :\n",
    "    df[col] = df[col] / df['GP']\n",
    "df.drop(columns=['GP'], inplace=True)"
   ]
  },
  {
   "cell_type": "code",
   "execution_count": 6,
   "metadata": {},
   "outputs": [
    {
     "data": {
      "text/plain": [
       "Mavericks        31\n",
       "Nuggets          31\n",
       "Pacers           31\n",
       "Kings            31\n",
       "Bucks            31\n",
       "Celtics          31\n",
       "Jazz             31\n",
       "Rockets          31\n",
       "Suns             31\n",
       "Cavaliers        31\n",
       "Lakers           31\n",
       "Magic            31\n",
       "Hawks            31\n",
       "Trail Blazers    31\n",
       "Heat             31\n",
       "Timberwolves     31\n",
       "Knicks           31\n",
       "Pistons          31\n",
       "Warriors         31\n",
       "76ers            31\n",
       "Bulls            31\n",
       "Spurs            31\n",
       "Nets             31\n",
       "Clippers         31\n",
       "Hornets          30\n",
       "Grizzlies        26\n",
       "Raptors          26\n",
       "Wizards          24\n",
       "SuperSonics      18\n",
       "Thunder          13\n",
       "Bobcats          10\n",
       "Pelicans          8\n",
       "Bullets           7\n",
       "Name: TEAM_NAME, dtype: int64"
      ]
     },
     "execution_count": 6,
     "metadata": {},
     "output_type": "execute_result"
    }
   ],
   "source": [
    "df.TEAM_NAME.value_counts()"
   ]
  },
  {
   "cell_type": "code",
   "execution_count": 7,
   "metadata": {},
   "outputs": [
    {
     "data": {
      "text/plain": [
       "Mavericks        31\n",
       "Trail Blazers    31\n",
       "Pacers           31\n",
       "Kings            31\n",
       "Bucks            31\n",
       "Celtics          31\n",
       "Pelicans         31\n",
       "Jazz             31\n",
       "Rockets          31\n",
       "Suns             31\n",
       "Cavaliers        31\n",
       "Lakers           31\n",
       "Magic            31\n",
       "Hawks            31\n",
       "Heat             31\n",
       "Wizards          31\n",
       "Nuggets          31\n",
       "Clippers         31\n",
       "Nets             31\n",
       "Thunder          31\n",
       "Spurs            31\n",
       "Knicks           31\n",
       "76ers            31\n",
       "Timberwolves     31\n",
       "Warriors         31\n",
       "Pistons          31\n",
       "Bulls            31\n",
       "Raptors          26\n",
       "Grizzlies        26\n",
       "Hornets          17\n",
       "Name: TEAM_NAME, dtype: int64"
      ]
     },
     "execution_count": 7,
     "metadata": {},
     "output_type": "execute_result"
    }
   ],
   "source": [
    "def team_fix(x) :\n",
    "    if ( x['TEAM_NAME']=='Hornets' and x['YEAR'] <= 2012 ) :\n",
    "        return 'Pelicans'\n",
    "    elif ( x['TEAM_NAME']=='Bobcats') :\n",
    "        return 'Hornets'\n",
    "    if ( x['TEAM_NAME']=='Bullets') :\n",
    "        return 'Wizards'\n",
    "    if ( x['TEAM_NAME']=='SuperSonics') :\n",
    "        return 'Thunder'\n",
    "    return x['TEAM_NAME']\n",
    "\n",
    "df['TEAM_NAME'] = df.apply(lambda x: team_fix(x), axis=1)\n",
    "df.TEAM_NAME.value_counts()"
   ]
  },
  {
   "cell_type": "code",
   "execution_count": 8,
   "metadata": {},
   "outputs": [
    {
     "name": "stdout",
     "output_type": "stream",
     "text": [
      "<class 'pandas.core.frame.DataFrame'>\n",
      "Int64Index: 906 entries, 41 to 30\n",
      "Data columns (total 16 columns):\n",
      " #   Column                 Non-Null Count  Dtype  \n",
      "---  ------                 --------------  -----  \n",
      " 0   TEAM_NAME              906 non-null    object \n",
      " 1   YEAR                   906 non-null    int64  \n",
      " 2   WIN_PCT                906 non-null    float64\n",
      " 3   NBA_FINALS_APPEARANCE  906 non-null    object \n",
      " 4   FG_PCT                 906 non-null    float64\n",
      " 5   FG3_PCT                906 non-null    float64\n",
      " 6   FT_PCT                 906 non-null    float64\n",
      " 7   OREB                   906 non-null    float64\n",
      " 8   DREB                   906 non-null    float64\n",
      " 9   REB                    906 non-null    float64\n",
      " 10  AST                    906 non-null    float64\n",
      " 11  PF                     906 non-null    float64\n",
      " 12  STL                    906 non-null    float64\n",
      " 13  TOV                    906 non-null    float64\n",
      " 14  BLK                    906 non-null    float64\n",
      " 15  PTS                    906 non-null    float64\n",
      "dtypes: float64(13), int64(1), object(2)\n",
      "memory usage: 120.3+ KB\n"
     ]
    }
   ],
   "source": [
    "df.info()"
   ]
  },
  {
   "cell_type": "code",
   "execution_count": 9,
   "metadata": {},
   "outputs": [],
   "source": [
    "#converted to csv file\n",
    "df.to_csv('nba_teams.csv')"
   ]
  }
 ],
 "metadata": {
  "kernelspec": {
   "display_name": "Python 3",
   "language": "python",
   "name": "python3"
  },
  "language_info": {
   "codemirror_mode": {
    "name": "ipython",
    "version": 3
   },
   "file_extension": ".py",
   "mimetype": "text/x-python",
   "name": "python",
   "nbconvert_exporter": "python",
   "pygments_lexer": "ipython3",
   "version": "3.8.5"
  }
 },
 "nbformat": 4,
 "nbformat_minor": 4
}
